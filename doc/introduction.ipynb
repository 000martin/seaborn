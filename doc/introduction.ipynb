{
 "cells": [
  {
   "cell_type": "raw",
   "metadata": {},
   "source": [
    ".. _introduction:\n",
    "\n",
    "Introduction\n",
    "============\n",
    "\n",
    "Seaborn is a library for making statistical graphics in Python. It is built on top of `matplotlib <https://matplotlib.org/>`_ and closely integrated with `pandas <https://pandas.pydata.org/>`_ data structures.\n",
    "\n",
    "Here is some of the functionality that seaborn offers:\n",
    "\n",
    "- Dataset-oriented API for examining :ref:`relationships <different_scatter_variables>` between :ref:`multiple variables <faceted_lineplot>`\n",
    "- Specialized support for plotting :ref:`observations <jitter_stripplot>` or aggregate :ref:`statistics <pointplot_anova>` within categorical groupings \n",
    "- Options for visualizing of :ref:`univariate <distplot_options>` or :ref:`bivariate <joint_kde>` distributions and for :ref:`comparing <horizontal_boxplot>` them between subsets of data\n",
    "- Automatic estimation and plotting of :ref:`linear regression <anscombes_quartet>` models for different kinds :ref:`dependent <logistic_regression>` variables\n",
    "- Fast views onto the overall :ref:`structure <scatterplot_matrix>` of complex datasets\n",
    "- High-level abstractions for structuring :ref:`multi-plot grids <faceted_histogram>` that let you easily build :ref:`complex <pair_grid_with_kde>` visualizations\n",
    "- Concise control over matplotlib figure styling with several :ref:`built-in themes <aesthetics_tutorial>`\n",
    "- Tools for choosing :ref:`color palettes <palette_tutorial>` that faithfully reveal patterns in your data\n",
    "\n",
    "Seaborn aims to make visualization a central part of exploring and understanding data. The API is \"dataset-oriented\" because the plotting functions operate on dataframes and arrays containing a whole dataset and internally perform the necessary mapping to semantic variables and statistical aggregation to produce informative plots. Here's an example of what this means:"
   ]
  },
  {
   "cell_type": "code",
   "execution_count": null,
   "metadata": {
    "tags": [
     "hide"
    ]
   },
   "outputs": [],
   "source": [
    "%matplotlib inline"
   ]
  },
  {
   "cell_type": "code",
   "execution_count": null,
   "metadata": {},
   "outputs": [],
   "source": [
    "import seaborn as sns\n",
    "sns.set()\n",
    "tips = sns.load_dataset(\"tips\")\n",
    "sns.relplot(x=\"total_bill\", y=\"tip\",\n",
    "            hue=\"smoker\", style=\"smoker\", col=\"time\",\n",
    "            data=tips);"
   ]
  },
  {
   "cell_type": "raw",
   "metadata": {},
   "source": [
    "A few things have happened here. Let's go through them one by one:\n",
    "\n",
    "1. While seaborn uses matplotlib behind the scenes, its not necessary to import it directly.\n",
    "2. The default seaborn theme (a gray background and white grid) is applied to all plots using :func:`set`.\n",
    "3. There are some example datasets provided for demoing and testing, including the boring but useful \"tips\" dataset.\n",
    "4. Using a high-level plotting function, seaborn draws multiple scatterplots with varying marker color and style."
   ]
  },
  {
   "cell_type": "code",
   "execution_count": null,
   "metadata": {},
   "outputs": [],
   "source": [
    "print(tips.head())"
   ]
  },
  {
   "cell_type": "code",
   "execution_count": null,
   "metadata": {},
   "outputs": [],
   "source": []
  }
 ],
 "metadata": {
  "celltoolbar": "Tags",
  "kernelspec": {
   "display_name": "Python 3.6  (seaborn-dev)",
   "language": "python",
   "name": "seaborn-dev"
  },
  "language_info": {
   "codemirror_mode": {
    "name": "ipython",
    "version": 3
   },
   "file_extension": ".py",
   "mimetype": "text/x-python",
   "name": "python",
   "nbconvert_exporter": "python",
   "pygments_lexer": "ipython3",
   "version": "3.6.3"
  }
 },
 "nbformat": 4,
 "nbformat_minor": 2
}
